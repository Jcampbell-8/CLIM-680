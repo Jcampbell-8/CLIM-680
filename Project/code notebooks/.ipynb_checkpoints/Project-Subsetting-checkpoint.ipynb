{
 "cells": [
  {
   "cell_type": "code",
   "execution_count": 1,
   "metadata": {},
   "outputs": [],
   "source": [
    "import xarray as xr\n",
    "import numpy as np\n",
    "import matplotlib.pyplot as plt\n",
    "\n",
    "import cartopy.crs as ccrs\n",
    "import cartopy.mpl.ticker as cticker\n",
    "from cartopy.util import add_cyclic_point"
   ]
  },
  {
   "cell_type": "code",
   "execution_count": 2,
   "metadata": {},
   "outputs": [
    {
     "data": {
      "text/plain": [
       "<xarray.Dataset>\n",
       "Dimensions:  (lat: 72, lon: 144, time: 491)\n",
       "Coordinates:\n",
       "  * lat      (lat) float32 88.75 86.25 83.75 81.25 ... -83.75 -86.25 -88.75\n",
       "  * lon      (lon) float32 1.25 3.75 6.25 8.75 ... 351.25 353.75 356.25 358.75\n",
       "  * time     (time) datetime64[ns] 1979-01-01 1979-02-01 ... 2019-11-01\n",
       "Data variables:\n",
       "    precip   (time, lat, lon) float32 ...\n",
       "Attributes:\n",
       "    Conventions:    COARDS\n",
       "    title:          CPC Merged Analysis of Precipitation (excludes NCEP Reana...\n",
       "    platform:       Analyses\n",
       "    source:         ftp ftp.cpc.ncep.noaa.gov precip/cmap/monthly\n",
       "    dataset_title:  CPC Merged Analysis of Precipitation\n",
       "    documentation:  https://www.esrl.noaa.gov/psd/data/gridded/data.cmap.html\n",
       "    References:     https://www.esrl.noaa.gov/psd/data/gridded/data.cmap.html\n",
       "    date_modified:  26 Feb 2019\n",
       "    version:        V1912\n",
       "    history:        update 12/2019 V1912\n",
       "    data_modified:  2019-12-12"
      ]
     },
     "execution_count": 2,
     "metadata": {},
     "output_type": "execute_result"
    }
   ],
   "source": [
    "file='/shared/obs/precip/cmap/monthly/precip.mon.mean.nc'\n",
    "ds=xr.open_dataset(file)\n",
    "ds"
   ]
  },
  {
   "cell_type": "code",
   "execution_count": 3,
   "metadata": {},
   "outputs": [
    {
     "data": {
      "text/plain": [
       "<xarray.DataArray 'precip' (time: 491, lat: 72, lon: 144)>\n",
       "[5090688 values with dtype=float32]\n",
       "Coordinates:\n",
       "  * lat      (lat) float32 88.75 86.25 83.75 81.25 ... -83.75 -86.25 -88.75\n",
       "  * lon      (lon) float32 1.25 3.75 6.25 8.75 ... 351.25 353.75 356.25 358.75\n",
       "  * time     (time) datetime64[ns] 1979-01-01 1979-02-01 ... 2019-11-01\n",
       "Attributes:\n",
       "    long_name:     Average Monthly Rate of Precipitation\n",
       "    valid_range:   [ 0. 70.]\n",
       "    units:         mm/day\n",
       "    precision:     2\n",
       "    var_desc:      Precipitation\n",
       "    dataset:       CPC Merged Analysis of Precipitation Standard\n",
       "    level_desc:    Surface\n",
       "    statistic:     Mean\n",
       "    parent_stat:   Mean\n",
       "    actual_range:  [ 0.   59.08]"
      ]
     },
     "execution_count": 3,
     "metadata": {},
     "output_type": "execute_result"
    }
   ],
   "source": [
    "ds['precip']"
   ]
  },
  {
   "cell_type": "code",
   "execution_count": 4,
   "metadata": {},
   "outputs": [],
   "source": [
    "units=ds['precip'].attrs['units']"
   ]
  },
  {
   "cell_type": "code",
   "execution_count": 5,
   "metadata": {},
   "outputs": [
    {
     "data": {
      "text/plain": [
       "'mm/day'"
      ]
     },
     "execution_count": 5,
     "metadata": {},
     "output_type": "execute_result"
    }
   ],
   "source": [
    "units"
   ]
  },
  {
   "cell_type": "code",
   "execution_count": 6,
   "metadata": {},
   "outputs": [
    {
     "data": {
      "text/plain": [
       "<matplotlib.colorbar.Colorbar at 0x7fc93847dcc0>"
      ]
     },
     "execution_count": 6,
     "metadata": {},
     "output_type": "execute_result"
    },
    {
     "data": {
      "image/png": "[encoded data removed]",
      "text/plain": [
       "<Figure size 432x288 with 2 Axes>"
      ]
     },
     "metadata": {
      "needs_background": "light"
     },
     "output_type": "display_data"
    }
   ],
   "source": [
    "plt.contourf(ds['precip'][0,:,:])\n",
    "plt.title('Monthly Mean Precipitation')\n",
    "plt.colorbar(label='mm/day') "
   ]
  },
  {
   "cell_type": "code",
   "execution_count": 7,
   "metadata": {},
   "outputs": [
    {
     "data": {
      "text/plain": [
       "<xarray.DataArray 'precip' (time: 491, lat: 72, lon: 144)>\n",
       "[5090688 values with dtype=float32]\n",
       "Coordinates:\n",
       "  * lat      (lat) float32 88.75 86.25 83.75 81.25 ... -83.75 -86.25 -88.75\n",
       "  * lon      (lon) float32 1.25 3.75 6.25 8.75 ... 351.25 353.75 356.25 358.75\n",
       "  * time     (time) datetime64[ns] 1979-01-01 1979-02-01 ... 2019-11-01\n",
       "Attributes:\n",
       "    long_name:     Average Monthly Rate of Precipitation\n",
       "    valid_range:   [ 0. 70.]\n",
       "    units:         mm/day\n",
       "    precision:     2\n",
       "    var_desc:      Precipitation\n",
       "    dataset:       CPC Merged Analysis of Precipitation Standard\n",
       "    level_desc:    Surface\n",
       "    statistic:     Mean\n",
       "    parent_stat:   Mean\n",
       "    actual_range:  [ 0.   59.08]"
      ]
     },
     "execution_count": 7,
     "metadata": {},
     "output_type": "execute_result"
    }
   ],
   "source": [
    "ds.precip"
   ]
  },
  {
   "cell_type": "code",
   "execution_count": 8,
   "metadata": {},
   "outputs": [
    {
     "data": {
      "text/plain": [
       "<xarray.Dataset>\n",
       "Dimensions:  (time: 491)\n",
       "Coordinates:\n",
       "    lat      float32 36.25\n",
       "    lon      float32 121.25\n",
       "  * time     (time) datetime64[ns] 1979-01-01 1979-02-01 ... 2019-11-01\n",
       "Data variables:\n",
       "    precip   (time) float32 ...\n",
       "Attributes:\n",
       "    Conventions:    COARDS\n",
       "    title:          CPC Merged Analysis of Precipitation (excludes NCEP Reana...\n",
       "    platform:       Analyses\n",
       "    source:         ftp ftp.cpc.ncep.noaa.gov precip/cmap/monthly\n",
       "    dataset_title:  CPC Merged Analysis of Precipitation\n",
       "    documentation:  https://www.esrl.noaa.gov/psd/data/gridded/data.cmap.html\n",
       "    References:     https://www.esrl.noaa.gov/psd/data/gridded/data.cmap.html\n",
       "    date_modified:  26 Feb 2019\n",
       "    version:        V1912\n",
       "    history:        update 12/2019 V1912\n",
       "    data_modified:  2019-12-12"
      ]
     },
     "execution_count": 8,
     "metadata": {},
     "output_type": "execute_result"
    }
   ],
   "source": [
    "ds_point=ds.sel(lat=37,lon=122,method='nearest')\n",
    "ds_point"
   ]
  },
  {
   "cell_type": "code",
   "execution_count": 9,
   "metadata": {},
   "outputs": [
    {
     "name": "stderr",
     "output_type": "stream",
     "text": [
      "/opt/anaconda3/lib/python3.7/site-packages/pandas/plotting/_matplotlib/converter.py:103: FutureWarning: Using an implicitly registered datetime converter for a matplotlib plotting method. The converter was registered by pandas on import. Future versions of pandas will require you to explicitly register matplotlib converters.\n",
      "\n",
      "To register the converters:\n",
      "\t>>> from pandas.plotting import register_matplotlib_converters\n",
      "\t>>> register_matplotlib_converters()\n",
      "  warnings.warn(msg, FutureWarning)\n"
     ]
    },
    {
     "data": {
      "text/plain": [
       "[<matplotlib.lines.Line2D at 0x7fc9384144a8>]"
      ]
     },
     "execution_count": 9,
     "metadata": {},
     "output_type": "execute_result"
    },
    {
     "data": {
      "image/png": "[encoded data removed]",
      "text/plain": [
       "<Figure size 432x288 with 1 Axes>"
      ]
     },
     "metadata": {
      "needs_background": "light"
     },
     "output_type": "display_data"
    }
   ],
   "source": [
    "plt.plot(ds_point['time'],ds_point['precip'])"
   ]
  },
  {
   "cell_type": "code",
   "execution_count": 10,
   "metadata": {},
   "outputs": [
    {
     "data": {
      "text/plain": [
       "<xarray.Dataset>\n",
       "Dimensions:  (lat: 72, lon: 144, time: 491)\n",
       "Coordinates:\n",
       "  * lat      (lat) float32 88.75 86.25 83.75 81.25 ... -83.75 -86.25 -88.75\n",
       "  * lon      (lon) float32 1.25 3.75 6.25 8.75 ... 351.25 353.75 356.25 358.75\n",
       "  * time     (time) datetime64[ns] 1979-01-01 1979-02-01 ... 2019-11-01\n",
       "Data variables:\n",
       "    precip   (time, lat, lon) float32 ...\n",
       "Attributes:\n",
       "    Conventions:    COARDS\n",
       "    title:          CPC Merged Analysis of Precipitation (excludes NCEP Reana...\n",
       "    platform:       Analyses\n",
       "    source:         ftp ftp.cpc.ncep.noaa.gov precip/cmap/monthly\n",
       "    dataset_title:  CPC Merged Analysis of Precipitation\n",
       "    documentation:  https://www.esrl.noaa.gov/psd/data/gridded/data.cmap.html\n",
       "    References:     https://www.esrl.noaa.gov/psd/data/gridded/data.cmap.html\n",
       "    date_modified:  26 Feb 2019\n",
       "    version:        V1912\n",
       "    history:        update 12/2019 V1912\n",
       "    data_modified:  2019-12-12"
      ]
     },
     "execution_count": 10,
     "metadata": {},
     "output_type": "execute_result"
    }
   ],
   "source": [
    "ds"
   ]
  },
  {
   "cell_type": "code",
   "execution_count": 11,
   "metadata": {},
   "outputs": [
    {
     "data": {
      "text/plain": [
       "<xarray.Dataset>\n",
       "Dimensions:  (lat: 8, lon: 10, time: 491)\n",
       "Coordinates:\n",
       "  * lat      (lat) float32 48.75 46.25 43.75 41.25 38.75 36.25 33.75 31.25\n",
       "  * lon      (lon) float32 236.25 238.75 241.25 243.75 ... 253.75 256.25 258.75\n",
       "  * time     (time) datetime64[ns] 1979-01-01 1979-02-01 ... 2019-11-01\n",
       "Data variables:\n",
       "    precip   (time, lat, lon) float32 ...\n",
       "Attributes:\n",
       "    Conventions:    COARDS\n",
       "    title:          CPC Merged Analysis of Precipitation (excludes NCEP Reana...\n",
       "    platform:       Analyses\n",
       "    source:         ftp ftp.cpc.ncep.noaa.gov precip/cmap/monthly\n",
       "    dataset_title:  CPC Merged Analysis of Precipitation\n",
       "    documentation:  https://www.esrl.noaa.gov/psd/data/gridded/data.cmap.html\n",
       "    References:     https://www.esrl.noaa.gov/psd/data/gridded/data.cmap.html\n",
       "    date_modified:  26 Feb 2019\n",
       "    version:        V1912\n",
       "    history:        update 12/2019 V1912\n",
       "    data_modified:  2019-12-12"
      ]
     },
     "execution_count": 11,
     "metadata": {},
     "output_type": "execute_result"
    }
   ],
   "source": [
    "ds_enso=ds.sel(lon=slice(360-125,360-100),lat=slice(50,30))\n",
    "ds_enso"
   ]
  },
  {
   "cell_type": "code",
   "execution_count": 12,
   "metadata": {},
   "outputs": [
    {
     "data": {
      "text/plain": [
       "<xarray.Dataset>\n",
       "Dimensions:  (lat: 8, lon: 10, time: 491)\n",
       "Coordinates:\n",
       "  * lat      (lat) float32 48.75 46.25 43.75 41.25 38.75 36.25 33.75 31.25\n",
       "  * lon      (lon) float32 236.25 238.75 241.25 243.75 ... 253.75 256.25 258.75\n",
       "  * time     (time) datetime64[ns] 1979-01-01 1979-02-01 ... 2019-11-01\n",
       "Data variables:\n",
       "    precip   (time, lat, lon) float32 ...\n",
       "Attributes:\n",
       "    Conventions:    COARDS\n",
       "    title:          CPC Merged Analysis of Precipitation (excludes NCEP Reana...\n",
       "    platform:       Analyses\n",
       "    source:         ftp ftp.cpc.ncep.noaa.gov precip/cmap/monthly\n",
       "    dataset_title:  CPC Merged Analysis of Precipitation\n",
       "    documentation:  https://www.esrl.noaa.gov/psd/data/gridded/data.cmap.html\n",
       "    References:     https://www.esrl.noaa.gov/psd/data/gridded/data.cmap.html\n",
       "    date_modified:  26 Feb 2019\n",
       "    version:        V1912\n",
       "    history:        update 12/2019 V1912\n",
       "    data_modified:  2019-12-12"
      ]
     },
     "execution_count": 12,
     "metadata": {},
     "output_type": "execute_result"
    }
   ],
   "source": [
    "ds_enso=ds_enso.sel(time=slice('1979-01-01','2019-12-01'))\n",
    "ds_enso"
   ]
  },
  {
   "cell_type": "code",
   "execution_count": 13,
   "metadata": {},
   "outputs": [
    {
     "data": {
      "text/plain": [
       "<matplotlib.contour.QuadContourSet at 0x7fc9382f7940>"
      ]
     },
     "execution_count": 13,
     "metadata": {},
     "output_type": "execute_result"
    },
    {
     "data": {
      "image/png": "[encoded data removed]",
      "text/plain": [
       "<Figure size 432x288 with 1 Axes>"
      ]
     },
     "metadata": {
      "needs_background": "light"
     },
     "output_type": "display_data"
    }
   ],
   "source": [
    "plt.contourf(ds_enso['lon'],ds_enso['lat'],\n",
    "    ds_enso['precip'][0,:,:],cmap='RdBu_r')"
   ]
  },
  {
   "cell_type": "code",
   "execution_count": 14,
   "metadata": {},
   "outputs": [
    {
     "data": {
      "text/plain": [
       "<xarray.Dataset>\n",
       "Dimensions:  (lat: 8, lon: 10, time: 491)\n",
       "Coordinates:\n",
       "  * lat      (lat) float32 48.75 46.25 43.75 41.25 38.75 36.25 33.75 31.25\n",
       "  * lon      (lon) float32 236.25 238.75 241.25 243.75 ... 253.75 256.25 258.75\n",
       "  * time     (time) datetime64[ns] 1979-01-01 1979-02-01 ... 2019-11-01\n",
       "Data variables:\n",
       "    precip   (time, lat, lon) float32 ...\n",
       "Attributes:\n",
       "    Conventions:    COARDS\n",
       "    title:          CPC Merged Analysis of Precipitation (excludes NCEP Reana...\n",
       "    platform:       Analyses\n",
       "    source:         ftp ftp.cpc.ncep.noaa.gov precip/cmap/monthly\n",
       "    dataset_title:  CPC Merged Analysis of Precipitation\n",
       "    documentation:  https://www.esrl.noaa.gov/psd/data/gridded/data.cmap.html\n",
       "    References:     https://www.esrl.noaa.gov/psd/data/gridded/data.cmap.html\n",
       "    date_modified:  26 Feb 2019\n",
       "    version:        V1912\n",
       "    history:        update 12/2019 V1912\n",
       "    data_modified:  2019-12-12"
      ]
     },
     "execution_count": 14,
     "metadata": {},
     "output_type": "execute_result"
    }
   ],
   "source": [
    "ds_enso=ds_enso.sel(time=slice('1979-01-01','2019-12-01'))\n",
    "ds_enso"
   ]
  },
  {
   "cell_type": "code",
   "execution_count": 15,
   "metadata": {},
   "outputs": [],
   "source": [
    "ds_enso.to_netcdf('/scratch/jcampb8/enso_1979-2019.cmap.monthly.precip.mon.mean.nc')"
   ]
  }
 ],
 "metadata": {
  "kernelspec": {
   "display_name": "Python 3",
   "language": "python",
   "name": "python3"
  },
  "language_info": {
   "codemirror_mode": {
    "name": "ipython",
    "version": 3
   },
   "file_extension": ".py",
   "mimetype": "text/x-python",
   "name": "python",
   "nbconvert_exporter": "python",
   "pygments_lexer": "ipython3",
   "version": "3.8.6"
  }
 },
 "nbformat": 4,
 "nbformat_minor": 4
}

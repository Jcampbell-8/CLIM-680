{
 "cells": [
  {
   "cell_type": "code",
   "execution_count": 1,
   "metadata": {},
   "outputs": [],
   "source": [
    "import xarray as xr\n",
    "import numpy as np\n",
    "import pandas as pd"
   ]
  },
  {
   "cell_type": "code",
   "execution_count": 2,
   "metadata": {},
   "outputs": [
    {
     "data": {
      "text/plain": [
       "<xarray.DataArray (space: 3, time: 3)>\n",
       "array([[1. , 2. , 3. ],\n",
       "       [0.1, 0.2, 0.3],\n",
       "       [3.2, 0.6, 1.8]])\n",
       "Coordinates:\n",
       "  * space    (space) <U2 'IA' 'IL' 'IN'\n",
       "  * time     (time) datetime64[ns] 2000-01-01 2000-01-02 2000-01-03"
      ]
     },
     "execution_count": 2,
     "metadata": {},
     "output_type": "execute_result"
    }
   ],
   "source": [
    "da_a = xr.DataArray(\n",
    "    np.array([[1, 2, 3], [0.1, 0.2, 0.3], [3.2, 0.6, 1.8]]),\n",
    "    dims=(\"space\", \"time\"),\n",
    "    coords=[\n",
    "        (\"space\", [\"IA\", \"IL\", \"IN\"]),\n",
    "        (\"time\", pd.date_range(\"2000-01-01\", freq=\"1D\", periods=3)),\n",
    "    ],\n",
    ")\n",
    "da_a"
   ]
  },
  {
   "cell_type": "code",
   "execution_count": 3,
   "metadata": {},
   "outputs": [
    {
     "data": {
      "text/plain": [
       "<xarray.DataArray (space: 3, time: 3)>\n",
       "array([[ 0.2,  0.4,  0.6],\n",
       "       [15. , 10. ,  5. ],\n",
       "       [ 3.2,  0.6,  1.8]])\n",
       "Coordinates:\n",
       "  * space    (space) <U2 'IA' 'IL' 'IN'\n",
       "  * time     (time) datetime64[ns] 2000-01-01 2000-01-02 2000-01-03"
      ]
     },
     "execution_count": 3,
     "metadata": {},
     "output_type": "execute_result"
    }
   ],
   "source": [
    "da_b = xr.DataArray(\n",
    "    np.array([[0.2, 0.4, 0.6], [15, 10, 5], [3.2, 0.6, 1.8]]),\n",
    "    dims=(\"space\", \"time\"),\n",
    "    coords=[\n",
    "        (\"space\", [\"IA\", \"IL\", \"IN\"]),\n",
    "        (\"time\", pd.date_range(\"2000-01-01\", freq=\"1D\", periods=3)),\n",
    "    ],\n",
    ")\n",
    "da_b"
   ]
  },
  {
   "cell_type": "code",
   "execution_count": 4,
   "metadata": {},
   "outputs": [
    {
     "ename": "AttributeError",
     "evalue": "module 'xarray' has no attribute 'corr'",
     "output_type": "error",
     "traceback": [
      "\u001b[0;31m---------------------------------------------------------------------------\u001b[0m",
      "\u001b[0;31mAttributeError\u001b[0m                            Traceback (most recent call last)",
      "\u001b[0;32m<ipython-input-4-bcca402ca42a>\u001b[0m in \u001b[0;36m<module>\u001b[0;34m\u001b[0m\n\u001b[0;32m----> 1\u001b[0;31m \u001b[0mxr\u001b[0m\u001b[0;34m.\u001b[0m\u001b[0mcorr\u001b[0m\u001b[0;34m(\u001b[0m\u001b[0mda_a\u001b[0m\u001b[0;34m,\u001b[0m \u001b[0mda_b\u001b[0m\u001b[0;34m)\u001b[0m\u001b[0;34m\u001b[0m\u001b[0;34m\u001b[0m\u001b[0m\n\u001b[0m",
      "\u001b[0;31mAttributeError\u001b[0m: module 'xarray' has no attribute 'corr'"
     ]
    }
   ],
   "source": [
    "xr.corr(da_a, da_b)"
   ]
  },
  {
   "cell_type": "code",
   "execution_count": null,
   "metadata": {},
   "outputs": [],
   "source": []
  }
 ],
 "metadata": {
  "kernelspec": {
   "display_name": "Python 3",
   "language": "python",
   "name": "python3"
  },
  "language_info": {
   "codemirror_mode": {
    "name": "ipython",
    "version": 3
   },
   "file_extension": ".py",
   "mimetype": "text/x-python",
   "name": "python",
   "nbconvert_exporter": "python",
   "pygments_lexer": "ipython3",
   "version": "3.8.6"
  }
 },
 "nbformat": 4,
 "nbformat_minor": 4
}
